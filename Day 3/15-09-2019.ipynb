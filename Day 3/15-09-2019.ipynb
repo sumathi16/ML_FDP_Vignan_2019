{
 "cells": [
  {
   "cell_type": "code",
   "execution_count": null,
   "metadata": {},
   "outputs": [],
   "source": [
    "Topics Covered\n",
    "Numpy - array,eye,ones,zeros,reshape,arange\n",
    "shape,ndim,itemsize\n",
    "Pandas - 1d Series\n",
    "         2d Dataframe\n",
    "         3d Pannel\n",
    "matplotlib.pyplot\n",
    "Scikit learn"
   ]
  },
  {
   "cell_type": "markdown",
   "metadata": {},
   "source": [
    "<pre>import panads as pd\n",
    "pd.read_csv(filepath,sep='\\t')</pre"
   ]
  },
  {
   "cell_type": "code",
   "execution_count": null,
   "metadata": {},
   "outputs": [],
   "source": [
    "# Generate an array of 20 values\n",
    "# caluculate new array with value *5 + 3 for each value in the array\n",
    "# draw a plot for X & y"
   ]
  },
  {
   "cell_type": "code",
   "execution_count": 6,
   "metadata": {},
   "outputs": [
    {
     "name": "stdout",
     "output_type": "stream",
     "text": [
      "[47 19 88 84 68 98 65 63 71 46 58 90 48 75 95 99 21 92 10 65 77 31 30 67\n",
      " 98 77 77 65 50 78 63 80 51 99 13 11 51 15 53 71 30 17 77 57 64 45 95 79\n",
      " 48 44 94 41 83 42 70 39 15 75 38 10 25 50 23 96 55 77 98 98 42 24 15 24\n",
      " 17 38 50 10 92 67 32 68 59 45 83 49 70 60 58 17 47 10 21 95 43 14 68 10\n",
      " 87 67 90 96 88 46 90 70 28 33 89 75 15 14 49 23 70 56 46 86 24 91 78 40\n",
      " 86 25 63 50 63 25 93 10 37 58 81 50 72 54 73 29 17 68 67 90 57 73 33 58\n",
      " 55 44 95 67 28 32 40 79 16 22 27 47 55 47 28 28 58 92 35 37 76 92 96 52\n",
      " 59 77 56 70 53 45 81 86 19 29 22 71 98 40 53 72 82 38 44 66 20 80 32 65\n",
      " 11 55 36 72 11 54 96 49] [238  98 443 423 343 493 328 318 358 233 293 453 243 378 478 498 108 463\n",
      "  53 328 388 158 153 338 493 388 388 328 253 393 318 403 258 498  68  58\n",
      " 258  78 268 358 153  88 388 288 323 228 478 398 243 223 473 208 418 213\n",
      " 353 198  78 378 193  53 128 253 118 483 278 388 493 493 213 123  78 123\n",
      "  88 193 253  53 463 338 163 343 298 228 418 248 353 303 293  88 238  53\n",
      " 108 478 218  73 343  53 438 338 453 483 443 233 453 353 143 168 448 378\n",
      "  78  73 248 118 353 283 233 433 123 458 393 203 433 128 318 253 318 128\n",
      " 468  53 188 293 408 253 363 273 368 148  88 343 338 453 288 368 168 293\n",
      " 278 223 478 338 143 163 203 398  83 113 138 238 278 238 143 143 293 463\n",
      " 178 188 383 463 483 263 298 388 283 353 268 228 408 433  98 148 113 358\n",
      " 493 203 268 363 413 193 223 333 103 403 163 328  58 278 183 363  58 273\n",
      " 483 248]\n"
     ]
    },
    {
     "data": {
      "text/plain": [
       "[<matplotlib.lines.Line2D at 0x1bb7bc69198>]"
      ]
     },
     "execution_count": 6,
     "metadata": {},
     "output_type": "execute_result"
    },
    {
     "data": {
      "image/png": "[encoded data removed]",
      "text/plain": [
       "<Figure size 432x288 with 1 Axes>"
      ]
     },
     "metadata": {
      "needs_background": "light"
     },
     "output_type": "display_data"
    }
   ],
   "source": [
    "%matplotlib inline\n",
    "import numpy as np\n",
    "import matplotlib.pyplot as plt\n",
    "#x = np.arange(10,51,2)\n",
    "#x = np.linspace(10,51,20)\n",
    "x = np.random.randint(10,101,200)\n",
    "y = x*5 + 3\n",
    "print(x,y)\n",
    "plt.plot(x,y)"
   ]
  },
  {
   "cell_type": "code",
   "execution_count": 9,
   "metadata": {},
   "outputs": [
    {
     "name": "stdout",
     "output_type": "stream",
     "text": [
      "[1. 2.]\n",
      "3.0000000000000018\n"
     ]
    },
    {
     "data": {
      "text/plain": [
       "array([16.])"
      ]
     },
     "execution_count": 9,
     "metadata": {},
     "output_type": "execute_result"
    }
   ],
   "source": [
    "import numpy as np\n",
    "from sklearn.linear_model import LinearRegression\n",
    "X = np.array([[1, 1], [1, 2], [2, 2], [2, 3]])\n",
    "# y = 1 * x_0 + 2 * x_1 + 3\n",
    "y = np.dot(X, np.array([1, 2])) + 3\n",
    "#print(x)\n",
    "#print(y)\n",
    "reg = LinearRegression().fit(X, y)\n",
    "reg.score(X, y)\n",
    "\n",
    "print(reg.coef_)\n",
    "\n",
    "print(reg.intercept_) \n",
    "\n",
    "reg.predict(np.array([[3, 5]]))"
   ]
  },
  {
   "cell_type": "code",
   "execution_count": null,
   "metadata": {},
   "outputs": [],
   "source": [
    "from sklearn.datasets import load_iris\n",
    "load_\n"
   ]
  }
 ],
 "metadata": {
  "kernelspec": {
   "display_name": "Python 3",
   "language": "python",
   "name": "python3"
  },
  "language_info": {
   "codemirror_mode": {
    "name": "ipython",
    "version": 3
   },
   "file_extension": ".py",
   "mimetype": "text/x-python",
   "name": "python",
   "nbconvert_exporter": "python",
   "pygments_lexer": "ipython3",
   "version": "3.7.0"
  }
 },
 "nbformat": 4,
 "nbformat_minor": 2
}
