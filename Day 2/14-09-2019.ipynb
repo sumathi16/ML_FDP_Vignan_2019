{
 "cells": [
  {
   "cell_type": "markdown",
   "metadata": {},
   "source": [
    "### Topics Covered yesterday\n",
    "* input,output\n",
    "* type conversions - str,int,float,bool\n",
    "* Datatypes\n",
    "* Functions\n",
    "* list comprehensions\n",
    "* map\n",
    "* Strings"
   ]
  },
  {
   "cell_type": "code",
   "execution_count": 1,
   "metadata": {},
   "outputs": [
    {
     "name": "stdout",
     "output_type": "stream",
     "text": [
      "Enter a file namedata\n"
     ]
    }
   ],
   "source": [
    "name = input(\"Enter a file name\")"
   ]
  },
  {
   "cell_type": "code",
   "execution_count": 2,
   "metadata": {},
   "outputs": [
    {
     "data": {
      "text/plain": [
       "'data'"
      ]
     },
     "execution_count": 2,
     "metadata": {},
     "output_type": "execute_result"
    }
   ],
   "source": [
    "name"
   ]
  },
  {
   "cell_type": "markdown",
   "metadata": {},
   "source": [
    "Run a cell\n",
    "* shift + Enter\n",
    "* Alt + Enter\n",
    "* Ctrl +Enter"
   ]
  },
  {
   "cell_type": "code",
   "execution_count": 11,
   "metadata": {},
   "outputs": [
    {
     "name": "stdout",
     "output_type": "stream",
     "text": [
      "data\n"
     ]
    }
   ],
   "source": [
    "print(name)"
   ]
  },
  {
   "cell_type": "markdown",
   "metadata": {},
   "source": [
    "#### Github Repository link\n",
    "https://github.com/sumathi16/ML_FDP_Vignan_2019"
   ]
  },
  {
   "cell_type": "markdown",
   "metadata": {},
   "source": [
    "## Topics Will be covered Today\n",
    "* Numpy\n",
    "* Pandas\n",
    "* Matplotlib\n",
    "* Scikit Learn\n",
    "* Student Intervention Ptroject\n",
    "* Housing Price"
   ]
  },
  {
   "cell_type": "code",
   "execution_count": 12,
   "metadata": {},
   "outputs": [],
   "source": [
    "import functions"
   ]
  },
  {
   "cell_type": "code",
   "execution_count": 14,
   "metadata": {},
   "outputs": [
    {
     "data": {
      "text/plain": [
       "27"
      ]
     },
     "execution_count": 14,
     "metadata": {},
     "output_type": "execute_result"
    }
   ],
   "source": [
    "functions.cube(3)"
   ]
  },
  {
   "cell_type": "code",
   "execution_count": 15,
   "metadata": {},
   "outputs": [
    {
     "data": {
      "text/plain": [
       "3.14"
      ]
     },
     "execution_count": 15,
     "metadata": {},
     "output_type": "execute_result"
    }
   ],
   "source": [
    "functions.pi"
   ]
  },
  {
   "cell_type": "code",
   "execution_count": 16,
   "metadata": {},
   "outputs": [
    {
     "data": {
      "text/plain": [
       "array([1, 2, 3, 4])"
      ]
     },
     "execution_count": 16,
     "metadata": {},
     "output_type": "execute_result"
    }
   ],
   "source": [
    "import numpy \n",
    "numpy.array([1,2,3,4])"
   ]
  },
  {
   "cell_type": "code",
   "execution_count": 17,
   "metadata": {},
   "outputs": [
    {
     "data": {
      "text/plain": [
       "array([1, 2, 3, 4])"
      ]
     },
     "execution_count": 17,
     "metadata": {},
     "output_type": "execute_result"
    }
   ],
   "source": [
    "import numpy as np\n",
    "np.array([1,2,3,4])"
   ]
  },
  {
   "cell_type": "markdown",
   "metadata": {},
   "source": [
    "Steps:\n",
    "1. Defining A problem\n",
    "2. Data collection\n",
    "3. What are the inputs and ouput?\n",
    "4. Cleaning and Preprocessing\n",
    "    1. Cleaning\n",
    "        1. Removing Unwanted data\n",
    "       \n",
    "    2. Preprocessing\n",
    "        1. Categorical\n",
    "            1. Lable encoder :yes,no -->1,0<br>\n",
    "                             : High ,medium,low -->3,2,1\n",
    "                            \n",
    "            2. One hot encoder\n",
    "            \n",
    "        2. Numerical\n",
    "               y = m1*x1 +m2*x2 +c\n",
    "               MinmaxScaler\n",
    "               StandardScaler\n",
    "        3. Dealing with Missing data\n",
    "            \n",
    "5. Training and Testing data split\n",
    "6. Selecting ML Models\n",
    "7. Tuning\n",
    "\n",
    "               \n",
    "\n"
   ]
  }
 ],
 "metadata": {
  "kernelspec": {
   "display_name": "Python 3",
   "language": "python",
   "name": "python3"
  },
  "language_info": {
   "codemirror_mode": {
    "name": "ipython",
    "version": 3
   },
   "file_extension": ".py",
   "mimetype": "text/x-python",
   "name": "python",
   "nbconvert_exporter": "python",
   "pygments_lexer": "ipython3",
   "version": "3.7.0"
  }
 },
 "nbformat": 4,
 "nbformat_minor": 2
}
